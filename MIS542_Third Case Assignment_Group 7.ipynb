{
 "cells": [
  {
   "cell_type": "markdown",
   "id": "29491f5b",
   "metadata": {},
   "source": [
    "<h1 style=\"text-align: center;\">MIS 542 &ndash; Advanced Business Analytics</h1>\n",
    "<h1 style=\"text-align: center;\">Third Business Case - Fund Raising</h1>\n",
    "\n",
    "<h4> Team 7 Members - Section 1:\n",
    "<h4> Nada Alomari - 202111090 | Saja Alqahtani - 202111070 | Reda Alhamza - 201365390"
   ]
  },
  {
   "cell_type": "code",
   "execution_count": 1,
   "id": "bb4026ca",
   "metadata": {},
   "outputs": [],
   "source": [
    "import pandas as pd\n",
    "\n",
    "fund_df = pd.read_csv('D:/MIS542/Fundraising.csv')"
   ]
  },
  {
   "cell_type": "markdown",
   "id": "b3811881",
   "metadata": {},
   "source": [
    "### Frequency table of donors VS non donors with the average donation for all donors. "
   ]
  },
  {
   "cell_type": "code",
   "execution_count": 2,
   "id": "ee43d500",
   "metadata": {},
   "outputs": [
    {
     "data": {
      "text/plain": [
       "0    1560\n",
       "1    1560\n",
       "Name: TARGET_B, dtype: int64"
      ]
     },
     "execution_count": 2,
     "metadata": {},
     "output_type": "execute_result"
    }
   ],
   "source": [
    "fund_df['TARGET_B'].value_counts() "
   ]
  },
  {
   "cell_type": "code",
   "execution_count": 3,
   "id": "58e6b7cf",
   "metadata": {},
   "outputs": [
    {
     "data": {
      "text/plain": [
       "TARGET_B\n",
       "0     0.000000\n",
       "1    12.999224\n",
       "Name: TARGET_D, dtype: float64"
      ]
     },
     "execution_count": 3,
     "metadata": {},
     "output_type": "execute_result"
    }
   ],
   "source": [
    "#Average Donation for all donors\n",
    "fund_df.groupby('TARGET_B')['TARGET_D'].mean()"
   ]
  },
  {
   "cell_type": "code",
   "execution_count": 4,
   "id": "10395d5f",
   "metadata": {},
   "outputs": [
    {
     "data": {
      "text/plain": [
       "12.99922435897436"
      ]
     },
     "execution_count": 4,
     "metadata": {},
     "output_type": "execute_result"
    }
   ],
   "source": [
    "fund_df[fund_df['TARGET_B']==1]['TARGET_D'].mean()"
   ]
  },
  {
   "cell_type": "markdown",
   "id": "aecbd0a8",
   "metadata": {},
   "source": [
    "### Drop non-useful columns ['Row Id', 'Row Id.', 'TARGET_D']"
   ]
  },
  {
   "cell_type": "code",
   "execution_count": 5,
   "id": "d0c14bd5",
   "metadata": {},
   "outputs": [],
   "source": [
    "fund_df.drop(['Row Id', 'Row Id.', 'TARGET_D'], axis=1, inplace=True)"
   ]
  },
  {
   "cell_type": "markdown",
   "id": "56539992",
   "metadata": {},
   "source": [
    "### Partition the dataset into 60% training and 40% validation with specifying“TARGET_B”is the outcome variable, while others are input variables in form of X and Y objects."
   ]
  },
  {
   "cell_type": "code",
   "execution_count": 6,
   "id": "7e538f42",
   "metadata": {},
   "outputs": [],
   "source": [
    "predictors = ['zipconvert_2', 'zipconvert_3', 'zipconvert_4', 'zipconvert_5',\n",
    "       'homeowner dummy', 'NUMCHLD', 'INCOME', 'gender dummy', 'WEALTH', 'HV',\n",
    "       'Icmed', 'Icavg', 'IC15', 'NUMPROM', 'RAMNTALL', 'MAXRAMNT', 'LASTGIFT',\n",
    "       'totalmonths', 'TIMELAG', 'AVGGIFT']\n",
    "outcome = 'TARGET_B'"
   ]
  },
  {
   "cell_type": "code",
   "execution_count": 7,
   "id": "11f95697",
   "metadata": {},
   "outputs": [],
   "source": [
    "x= fund_df[predictors]\n",
    "y=fund_df[outcome]"
   ]
  },
  {
   "cell_type": "code",
   "execution_count": 8,
   "id": "7317c5c5",
   "metadata": {},
   "outputs": [],
   "source": [
    "from sklearn.model_selection import train_test_split\n",
    "train_x, valid_x, train_y, valid_y = train_test_split(x, y, test_size = 0.4, random_state = 1)"
   ]
  },
  {
   "cell_type": "markdown",
   "id": "aa829bba",
   "metadata": {},
   "source": [
    "### Logistic Regression"
   ]
  },
  {
   "cell_type": "code",
   "execution_count": 9,
   "id": "32615d16",
   "metadata": {},
   "outputs": [],
   "source": [
    "from sklearn.linear_model import LogisticRegression\n",
    "from dmba import plotDecisionTree, classificationSummary, regressionSummary\n",
    "\n",
    "logreg = LogisticRegression()"
   ]
  },
  {
   "cell_type": "code",
   "execution_count": 10,
   "id": "10ec48d9",
   "metadata": {},
   "outputs": [
    {
     "name": "stdout",
     "output_type": "stream",
     "text": [
      "Confusion Matrix (Accuracy 0.5604)\n",
      "\n",
      "       Prediction\n",
      "Actual   0   1\n",
      "     0 571 364\n",
      "     1 459 478\n",
      "Confusion Matrix (Accuracy 0.5497)\n",
      "\n",
      "       Prediction\n",
      "Actual   0   1\n",
      "     0 381 244\n",
      "     1 318 305\n"
     ]
    },
    {
     "name": "stderr",
     "output_type": "stream",
     "text": [
      "C:\\Users\\rs7am\\anaconda3\\lib\\site-packages\\sklearn\\linear_model\\_logistic.py:763: ConvergenceWarning: lbfgs failed to converge (status=1):\n",
      "STOP: TOTAL NO. of ITERATIONS REACHED LIMIT.\n",
      "\n",
      "Increase the number of iterations (max_iter) or scale the data as shown in:\n",
      "    https://scikit-learn.org/stable/modules/preprocessing.html\n",
      "Please also refer to the documentation for alternative solver options:\n",
      "    https://scikit-learn.org/stable/modules/linear_model.html#logistic-regression\n",
      "  n_iter_i = _check_optimize_result(\n"
     ]
    }
   ],
   "source": [
    "logreg.fit(train_x, train_y)\n",
    "classificationSummary(train_y, logreg.predict(train_x))\n",
    "classificationSummary(valid_y, logreg.predict(valid_x))\n",
    "LR_table = pd.crosstab(valid_y, logreg.predict(valid_x)) "
   ]
  },
  {
   "cell_type": "markdown",
   "id": "6b2d2046",
   "metadata": {},
   "source": [
    "### Classification Tree"
   ]
  },
  {
   "cell_type": "code",
   "execution_count": 11,
   "id": "88e75490",
   "metadata": {},
   "outputs": [],
   "source": [
    "from pathlib import Path\n",
    "\n",
    "import pandas as pd\n",
    "import numpy as np\n",
    "from sklearn.tree import DecisionTreeClassifier, DecisionTreeRegressor\n",
    "from sklearn.model_selection import train_test_split, cross_val_score, GridSearchCV\n",
    "import matplotlib.pylab as plt\n"
   ]
  },
  {
   "cell_type": "code",
   "execution_count": 12,
   "id": "35310b07",
   "metadata": {
    "scrolled": true
   },
   "outputs": [
    {
     "name": "stdout",
     "output_type": "stream",
     "text": [
      "Confusion Matrix (Accuracy 1.0000)\n",
      "\n",
      "       Prediction\n",
      "Actual   0   1\n",
      "     0 935   0\n",
      "     1   0 937\n",
      "Confusion Matrix (Accuracy 0.5088)\n",
      "\n",
      "       Prediction\n",
      "Actual   0   1\n",
      "     0 305 320\n",
      "     1 293 330\n"
     ]
    }
   ],
   "source": [
    "fullClassTree = DecisionTreeClassifier()\n",
    "fullClassTree.fit(train_x, train_y)\n",
    "classificationSummary(train_y, fullClassTree.predict(train_x))\n",
    "classificationSummary(valid_y, fullClassTree.predict(valid_x))"
   ]
  },
  {
   "cell_type": "code",
   "execution_count": 13,
   "id": "6e07dde0",
   "metadata": {},
   "outputs": [],
   "source": [
    "DT_table = pd.crosstab(valid_y, fullClassTree.predict(valid_x)) "
   ]
  },
  {
   "cell_type": "markdown",
   "id": "33a476b5",
   "metadata": {},
   "source": [
    "### Random Forest"
   ]
  },
  {
   "cell_type": "code",
   "execution_count": 14,
   "id": "d8f419ab",
   "metadata": {},
   "outputs": [],
   "source": [
    "from sklearn.ensemble import RandomForestClassifier, GradientBoostingClassifier"
   ]
  },
  {
   "cell_type": "code",
   "execution_count": 15,
   "id": "e27bd76d",
   "metadata": {},
   "outputs": [
    {
     "name": "stdout",
     "output_type": "stream",
     "text": [
      "Confusion Matrix (Accuracy 1.0000)\n",
      "\n",
      "       Prediction\n",
      "Actual   0   1\n",
      "     0 935   0\n",
      "     1   0 937\n",
      "Confusion Matrix (Accuracy 0.5481)\n",
      "\n",
      "       Prediction\n",
      "Actual   0   1\n",
      "     0 337 288\n",
      "     1 276 347\n"
     ]
    }
   ],
   "source": [
    "rf = RandomForestClassifier(n_estimators=500, random_state=1)\n",
    "rf.fit(train_x, train_y)\n",
    "classificationSummary(train_y, rf.predict(train_x))\n",
    "classificationSummary(valid_y, rf.predict(valid_x))\n",
    "importances = rf.feature_importances_"
   ]
  },
  {
   "cell_type": "code",
   "execution_count": 16,
   "id": "be0bec34",
   "metadata": {},
   "outputs": [],
   "source": [
    "RF_table = pd.crosstab(valid_y, rf.predict(valid_x)) "
   ]
  },
  {
   "cell_type": "code",
   "execution_count": 17,
   "id": "76ec423e",
   "metadata": {},
   "outputs": [
    {
     "name": "stdout",
     "output_type": "stream",
     "text": [
      "            feature  importance\n",
      "5           NUMCHLD    0.006942\n",
      "1      zipconvert_3    0.009962\n",
      "2      zipconvert_4    0.010910\n",
      "0      zipconvert_2    0.011482\n",
      "3      zipconvert_5    0.012293\n",
      "4   homeowner dummy    0.012966\n",
      "7      gender dummy    0.014432\n",
      "8            WEALTH    0.032616\n",
      "6            INCOME    0.044016\n",
      "15         MAXRAMNT    0.053709\n",
      "16         LASTGIFT    0.054303\n",
      "17      totalmonths    0.061583\n",
      "18          TIMELAG    0.064141\n",
      "12             IC15    0.074016\n",
      "13          NUMPROM    0.081112\n",
      "14         RAMNTALL    0.087535\n",
      "10            Icmed    0.087732\n",
      "11            Icavg    0.089925\n",
      "19          AVGGIFT    0.094812\n",
      "9                HV    0.095514\n"
     ]
    }
   ],
   "source": [
    "df = pd.DataFrame({'feature':train_x.columns, 'importance': importances})\n",
    "df = df.sort_values('importance')\n",
    "print(df)"
   ]
  },
  {
   "cell_type": "markdown",
   "id": "7a3af304",
   "metadata": {},
   "source": [
    "### Neural Network"
   ]
  },
  {
   "cell_type": "code",
   "execution_count": 18,
   "id": "144405db",
   "metadata": {},
   "outputs": [],
   "source": [
    "from sklearn.neural_network import MLPClassifier"
   ]
  },
  {
   "cell_type": "code",
   "execution_count": 19,
   "id": "3d5604b6",
   "metadata": {},
   "outputs": [],
   "source": [
    "classes = sorted(y.unique())"
   ]
  },
  {
   "cell_type": "code",
   "execution_count": 20,
   "id": "a4f92ebc",
   "metadata": {},
   "outputs": [],
   "source": [
    "clf = MLPClassifier(hidden_layer_sizes=(1), activation='logistic', solver='lbfgs', random_state=1)"
   ]
  },
  {
   "cell_type": "code",
   "execution_count": 21,
   "id": "4c077c92",
   "metadata": {},
   "outputs": [],
   "source": [
    "from sklearn import preprocessing\n",
    "\n",
    "min_max_scaler = preprocessing.MinMaxScaler()\n",
    "train_x_NN = min_max_scaler.fit_transform(train_x)\n",
    "valid_x_NN = min_max_scaler.fit_transform(valid_x)"
   ]
  },
  {
   "cell_type": "code",
   "execution_count": 22,
   "id": "bae87d7f",
   "metadata": {},
   "outputs": [
    {
     "data": {
      "text/plain": [
       "array([1, 1, 0, ..., 0, 1, 0], dtype=int64)"
      ]
     },
     "execution_count": 22,
     "metadata": {},
     "output_type": "execute_result"
    }
   ],
   "source": [
    "clf.fit(train_x_NN, train_y)\n",
    "clf.predict(valid_x_NN)"
   ]
  },
  {
   "cell_type": "code",
   "execution_count": 23,
   "id": "1a033d2c",
   "metadata": {},
   "outputs": [
    {
     "name": "stdout",
     "output_type": "stream",
     "text": [
      "Intercepts\n",
      "[array([-4.31281221]), array([-0.43011698])]\n",
      "weights\n",
      "[array([[ 3.03945487],\n",
      "       [ 2.75481512],\n",
      "       [ 2.93335671],\n",
      "       [ 2.59244675],\n",
      "       [ 0.90769653],\n",
      "       [-0.64345292],\n",
      "       [ 0.64086136],\n",
      "       [ 0.07519465],\n",
      "       [-0.1301672 ],\n",
      "       [ 0.90303032],\n",
      "       [ 7.39543893],\n",
      "       [-7.00019201],\n",
      "       [ 0.35324799],\n",
      "       [-1.3852201 ],\n",
      "       [ 2.28389426],\n",
      "       [ 1.16432918],\n",
      "       [-9.35776588],\n",
      "       [-2.48426918],\n",
      "       [ 2.74301159],\n",
      "       [-5.92160441]]), array([[10.74906968]])]\n"
     ]
    }
   ],
   "source": [
    "# Network structure\n",
    "print('Intercepts')\n",
    "print(clf.intercepts_)\n",
    "\n",
    "print('weights')\n",
    "print(clf.coefs_)"
   ]
  },
  {
   "cell_type": "code",
   "execution_count": 24,
   "id": "cf7cd7c6",
   "metadata": {},
   "outputs": [
    {
     "name": "stdout",
     "output_type": "stream",
     "text": [
      "      zipconvert_2  zipconvert_3  zipconvert_4  zipconvert_5  homeowner dummy  \\\n",
      "0                0             1             0             0                1   \n",
      "1                1             0             0             0                1   \n",
      "2                0             0             0             1                0   \n",
      "3                0             0             0             1                1   \n",
      "4                0             1             0             0                1   \n",
      "...            ...           ...           ...           ...              ...   \n",
      "3115             0             0             0             1                1   \n",
      "3116             0             1             0             0                0   \n",
      "3117             0             0             0             1                1   \n",
      "3118             0             0             0             1                1   \n",
      "3119             0             0             1             0                1   \n",
      "\n",
      "      NUMCHLD  INCOME  gender dummy  WEALTH    HV  ...  NUMPROM  RAMNTALL  \\\n",
      "0           1       5             1       9  1399  ...       74     102.0   \n",
      "1           1       1             0       7   698  ...       46      94.0   \n",
      "2           2       5             1       8   828  ...       32      30.0   \n",
      "3           1       3             0       4  1471  ...       94     177.0   \n",
      "4           1       4             0       8   547  ...       20      23.0   \n",
      "...       ...     ...           ...     ...   ...  ...      ...       ...   \n",
      "3115        1       4             0       8   697  ...       23      30.0   \n",
      "3116        1       2             0       8   590  ...       29      53.0   \n",
      "3117        1       3             0       7  3129  ...       79     212.0   \n",
      "3118        1       7             1       8  1345  ...       27      60.0   \n",
      "3119        1       5             1       4   882  ...       46     111.0   \n",
      "\n",
      "      MAXRAMNT  LASTGIFT  totalmonths  TIMELAG    AVGGIFT  TARGET_B         0  \\\n",
      "0          6.0       5.0           29        3   4.857143         1  0.451079   \n",
      "1         12.0      12.0           34        6   9.400000         1  0.123282   \n",
      "2         10.0       5.0           29        7   4.285714         1  0.561868   \n",
      "3         10.0       8.0           30        3   7.080000         0  0.496940   \n",
      "4         11.0      11.0           30        6   7.666667         0  0.579004   \n",
      "...        ...       ...          ...      ...        ...       ...       ...   \n",
      "3115      16.0       4.0           29        5   7.500000         0       NaN   \n",
      "3116      30.0      30.0           37        9  26.500000         1       NaN   \n",
      "3117      20.0      20.0           36        3  11.157895         0       NaN   \n",
      "3118      20.0      20.0           31        9  20.000000         0       NaN   \n",
      "3119      22.0       9.0           36        5   9.250000         0       NaN   \n",
      "\n",
      "             1  \n",
      "0     0.548921  \n",
      "1     0.876718  \n",
      "2     0.438132  \n",
      "3     0.503060  \n",
      "4     0.420996  \n",
      "...        ...  \n",
      "3115       NaN  \n",
      "3116       NaN  \n",
      "3117       NaN  \n",
      "3118       NaN  \n",
      "3119       NaN  \n",
      "\n",
      "[3120 rows x 23 columns]\n"
     ]
    }
   ],
   "source": [
    "# prediction\n",
    "\n",
    "print(pd.concat([\n",
    "    fund_df,\n",
    "    pd.DataFrame(clf.predict_proba(valid_x_NN), columns=classes)\n",
    "], axis=1)) "
   ]
  },
  {
   "cell_type": "code",
   "execution_count": 25,
   "id": "687f5b67",
   "metadata": {},
   "outputs": [
    {
     "name": "stdout",
     "output_type": "stream",
     "text": [
      "Confusion Matrix (Accuracy 0.5582)\n",
      "\n",
      "       Prediction\n",
      "Actual   0   1\n",
      "     0 631 304\n",
      "     1 523 414\n",
      "Confusion Matrix (Accuracy 0.5561)\n",
      "\n",
      "       Prediction\n",
      "Actual   0   1\n",
      "     0 450 175\n",
      "     1 379 244\n"
     ]
    }
   ],
   "source": [
    "classificationSummary(train_y, clf.predict(train_x_NN), class_names=classes)\n",
    "classificationSummary(valid_y, clf.predict(valid_x_NN), class_names=classes)\n",
    "NN_table = pd.crosstab(valid_y, clf.predict(valid_x_NN))"
   ]
  },
  {
   "cell_type": "markdown",
   "id": "9a9915ef",
   "metadata": {},
   "source": [
    "### Linear Discriminant Analysis"
   ]
  },
  {
   "cell_type": "code",
   "execution_count": 26,
   "id": "abd808fc",
   "metadata": {},
   "outputs": [],
   "source": [
    "from sklearn.discriminant_analysis import LinearDiscriminantAnalysis "
   ]
  },
  {
   "cell_type": "code",
   "execution_count": 27,
   "id": "431f722b",
   "metadata": {},
   "outputs": [
    {
     "data": {
      "text/plain": [
       "array([1, 1, 0, ..., 1, 1, 1], dtype=int64)"
      ]
     },
     "execution_count": 27,
     "metadata": {},
     "output_type": "execute_result"
    }
   ],
   "source": [
    "clf = LinearDiscriminantAnalysis()\n",
    "clf.fit(train_x, train_y)\n",
    "clf.predict(valid_x)"
   ]
  },
  {
   "cell_type": "code",
   "execution_count": 28,
   "id": "68eec59b",
   "metadata": {},
   "outputs": [
    {
     "data": {
      "text/html": [
       "<div>\n",
       "<style scoped>\n",
       "    .dataframe tbody tr th:only-of-type {\n",
       "        vertical-align: middle;\n",
       "    }\n",
       "\n",
       "    .dataframe tbody tr th {\n",
       "        vertical-align: top;\n",
       "    }\n",
       "\n",
       "    .dataframe thead th {\n",
       "        text-align: right;\n",
       "    }\n",
       "</style>\n",
       "<table border=\"1\" class=\"dataframe\">\n",
       "  <thead>\n",
       "    <tr style=\"text-align: right;\">\n",
       "      <th></th>\n",
       "      <th>zipconvert_2</th>\n",
       "      <th>zipconvert_3</th>\n",
       "      <th>zipconvert_4</th>\n",
       "      <th>zipconvert_5</th>\n",
       "      <th>homeowner dummy</th>\n",
       "      <th>NUMCHLD</th>\n",
       "      <th>INCOME</th>\n",
       "      <th>gender dummy</th>\n",
       "      <th>WEALTH</th>\n",
       "      <th>HV</th>\n",
       "      <th>...</th>\n",
       "      <th>RAMNTALL</th>\n",
       "      <th>MAXRAMNT</th>\n",
       "      <th>LASTGIFT</th>\n",
       "      <th>totalmonths</th>\n",
       "      <th>TIMELAG</th>\n",
       "      <th>AVGGIFT</th>\n",
       "      <th>TARGET_B</th>\n",
       "      <th>Dec. Function</th>\n",
       "      <th>Prediction</th>\n",
       "      <th>p(Donor)</th>\n",
       "    </tr>\n",
       "  </thead>\n",
       "  <tbody>\n",
       "    <tr>\n",
       "      <th>0</th>\n",
       "      <td>0</td>\n",
       "      <td>1</td>\n",
       "      <td>0</td>\n",
       "      <td>0</td>\n",
       "      <td>1</td>\n",
       "      <td>1</td>\n",
       "      <td>5</td>\n",
       "      <td>1</td>\n",
       "      <td>9</td>\n",
       "      <td>1399</td>\n",
       "      <td>...</td>\n",
       "      <td>102.0</td>\n",
       "      <td>6.0</td>\n",
       "      <td>5.0</td>\n",
       "      <td>29</td>\n",
       "      <td>3</td>\n",
       "      <td>4.857143</td>\n",
       "      <td>1</td>\n",
       "      <td>0.276418</td>\n",
       "      <td>1</td>\n",
       "      <td>0.568668</td>\n",
       "    </tr>\n",
       "    <tr>\n",
       "      <th>1</th>\n",
       "      <td>1</td>\n",
       "      <td>0</td>\n",
       "      <td>0</td>\n",
       "      <td>0</td>\n",
       "      <td>1</td>\n",
       "      <td>1</td>\n",
       "      <td>1</td>\n",
       "      <td>0</td>\n",
       "      <td>7</td>\n",
       "      <td>698</td>\n",
       "      <td>...</td>\n",
       "      <td>94.0</td>\n",
       "      <td>12.0</td>\n",
       "      <td>12.0</td>\n",
       "      <td>34</td>\n",
       "      <td>6</td>\n",
       "      <td>9.400000</td>\n",
       "      <td>1</td>\n",
       "      <td>-0.368039</td>\n",
       "      <td>0</td>\n",
       "      <td>0.409015</td>\n",
       "    </tr>\n",
       "    <tr>\n",
       "      <th>2</th>\n",
       "      <td>0</td>\n",
       "      <td>0</td>\n",
       "      <td>0</td>\n",
       "      <td>1</td>\n",
       "      <td>0</td>\n",
       "      <td>2</td>\n",
       "      <td>5</td>\n",
       "      <td>1</td>\n",
       "      <td>8</td>\n",
       "      <td>828</td>\n",
       "      <td>...</td>\n",
       "      <td>30.0</td>\n",
       "      <td>10.0</td>\n",
       "      <td>5.0</td>\n",
       "      <td>29</td>\n",
       "      <td>7</td>\n",
       "      <td>4.285714</td>\n",
       "      <td>1</td>\n",
       "      <td>0.052670</td>\n",
       "      <td>1</td>\n",
       "      <td>0.513164</td>\n",
       "    </tr>\n",
       "    <tr>\n",
       "      <th>3</th>\n",
       "      <td>0</td>\n",
       "      <td>0</td>\n",
       "      <td>0</td>\n",
       "      <td>1</td>\n",
       "      <td>1</td>\n",
       "      <td>1</td>\n",
       "      <td>3</td>\n",
       "      <td>0</td>\n",
       "      <td>4</td>\n",
       "      <td>1471</td>\n",
       "      <td>...</td>\n",
       "      <td>177.0</td>\n",
       "      <td>10.0</td>\n",
       "      <td>8.0</td>\n",
       "      <td>30</td>\n",
       "      <td>3</td>\n",
       "      <td>7.080000</td>\n",
       "      <td>0</td>\n",
       "      <td>-0.057740</td>\n",
       "      <td>0</td>\n",
       "      <td>0.485569</td>\n",
       "    </tr>\n",
       "    <tr>\n",
       "      <th>4</th>\n",
       "      <td>0</td>\n",
       "      <td>1</td>\n",
       "      <td>0</td>\n",
       "      <td>0</td>\n",
       "      <td>1</td>\n",
       "      <td>1</td>\n",
       "      <td>4</td>\n",
       "      <td>0</td>\n",
       "      <td>8</td>\n",
       "      <td>547</td>\n",
       "      <td>...</td>\n",
       "      <td>23.0</td>\n",
       "      <td>11.0</td>\n",
       "      <td>11.0</td>\n",
       "      <td>30</td>\n",
       "      <td>6</td>\n",
       "      <td>7.666667</td>\n",
       "      <td>0</td>\n",
       "      <td>0.073872</td>\n",
       "      <td>1</td>\n",
       "      <td>0.518459</td>\n",
       "    </tr>\n",
       "    <tr>\n",
       "      <th>...</th>\n",
       "      <td>...</td>\n",
       "      <td>...</td>\n",
       "      <td>...</td>\n",
       "      <td>...</td>\n",
       "      <td>...</td>\n",
       "      <td>...</td>\n",
       "      <td>...</td>\n",
       "      <td>...</td>\n",
       "      <td>...</td>\n",
       "      <td>...</td>\n",
       "      <td>...</td>\n",
       "      <td>...</td>\n",
       "      <td>...</td>\n",
       "      <td>...</td>\n",
       "      <td>...</td>\n",
       "      <td>...</td>\n",
       "      <td>...</td>\n",
       "      <td>...</td>\n",
       "      <td>...</td>\n",
       "      <td>...</td>\n",
       "      <td>...</td>\n",
       "    </tr>\n",
       "    <tr>\n",
       "      <th>3115</th>\n",
       "      <td>0</td>\n",
       "      <td>0</td>\n",
       "      <td>0</td>\n",
       "      <td>1</td>\n",
       "      <td>1</td>\n",
       "      <td>1</td>\n",
       "      <td>4</td>\n",
       "      <td>0</td>\n",
       "      <td>8</td>\n",
       "      <td>697</td>\n",
       "      <td>...</td>\n",
       "      <td>30.0</td>\n",
       "      <td>16.0</td>\n",
       "      <td>4.0</td>\n",
       "      <td>29</td>\n",
       "      <td>5</td>\n",
       "      <td>7.500000</td>\n",
       "      <td>0</td>\n",
       "      <td>0.171776</td>\n",
       "      <td>1</td>\n",
       "      <td>0.542839</td>\n",
       "    </tr>\n",
       "    <tr>\n",
       "      <th>3116</th>\n",
       "      <td>0</td>\n",
       "      <td>1</td>\n",
       "      <td>0</td>\n",
       "      <td>0</td>\n",
       "      <td>0</td>\n",
       "      <td>1</td>\n",
       "      <td>2</td>\n",
       "      <td>0</td>\n",
       "      <td>8</td>\n",
       "      <td>590</td>\n",
       "      <td>...</td>\n",
       "      <td>53.0</td>\n",
       "      <td>30.0</td>\n",
       "      <td>30.0</td>\n",
       "      <td>37</td>\n",
       "      <td>9</td>\n",
       "      <td>26.500000</td>\n",
       "      <td>1</td>\n",
       "      <td>-0.991284</td>\n",
       "      <td>0</td>\n",
       "      <td>0.270658</td>\n",
       "    </tr>\n",
       "    <tr>\n",
       "      <th>3117</th>\n",
       "      <td>0</td>\n",
       "      <td>0</td>\n",
       "      <td>0</td>\n",
       "      <td>1</td>\n",
       "      <td>1</td>\n",
       "      <td>1</td>\n",
       "      <td>3</td>\n",
       "      <td>0</td>\n",
       "      <td>7</td>\n",
       "      <td>3129</td>\n",
       "      <td>...</td>\n",
       "      <td>212.0</td>\n",
       "      <td>20.0</td>\n",
       "      <td>20.0</td>\n",
       "      <td>36</td>\n",
       "      <td>3</td>\n",
       "      <td>11.157895</td>\n",
       "      <td>0</td>\n",
       "      <td>-0.319825</td>\n",
       "      <td>0</td>\n",
       "      <td>0.420718</td>\n",
       "    </tr>\n",
       "    <tr>\n",
       "      <th>3118</th>\n",
       "      <td>0</td>\n",
       "      <td>0</td>\n",
       "      <td>0</td>\n",
       "      <td>1</td>\n",
       "      <td>1</td>\n",
       "      <td>1</td>\n",
       "      <td>7</td>\n",
       "      <td>1</td>\n",
       "      <td>8</td>\n",
       "      <td>1345</td>\n",
       "      <td>...</td>\n",
       "      <td>60.0</td>\n",
       "      <td>20.0</td>\n",
       "      <td>20.0</td>\n",
       "      <td>31</td>\n",
       "      <td>9</td>\n",
       "      <td>20.000000</td>\n",
       "      <td>0</td>\n",
       "      <td>0.156174</td>\n",
       "      <td>1</td>\n",
       "      <td>0.538964</td>\n",
       "    </tr>\n",
       "    <tr>\n",
       "      <th>3119</th>\n",
       "      <td>0</td>\n",
       "      <td>0</td>\n",
       "      <td>1</td>\n",
       "      <td>0</td>\n",
       "      <td>1</td>\n",
       "      <td>1</td>\n",
       "      <td>5</td>\n",
       "      <td>1</td>\n",
       "      <td>4</td>\n",
       "      <td>882</td>\n",
       "      <td>...</td>\n",
       "      <td>111.0</td>\n",
       "      <td>22.0</td>\n",
       "      <td>9.0</td>\n",
       "      <td>36</td>\n",
       "      <td>5</td>\n",
       "      <td>9.250000</td>\n",
       "      <td>0</td>\n",
       "      <td>-0.129457</td>\n",
       "      <td>0</td>\n",
       "      <td>0.467681</td>\n",
       "    </tr>\n",
       "  </tbody>\n",
       "</table>\n",
       "<p>3120 rows × 24 columns</p>\n",
       "</div>"
      ],
      "text/plain": [
       "      zipconvert_2  zipconvert_3  zipconvert_4  zipconvert_5  homeowner dummy  \\\n",
       "0                0             1             0             0                1   \n",
       "1                1             0             0             0                1   \n",
       "2                0             0             0             1                0   \n",
       "3                0             0             0             1                1   \n",
       "4                0             1             0             0                1   \n",
       "...            ...           ...           ...           ...              ...   \n",
       "3115             0             0             0             1                1   \n",
       "3116             0             1             0             0                0   \n",
       "3117             0             0             0             1                1   \n",
       "3118             0             0             0             1                1   \n",
       "3119             0             0             1             0                1   \n",
       "\n",
       "      NUMCHLD  INCOME  gender dummy  WEALTH    HV  ...  RAMNTALL  MAXRAMNT  \\\n",
       "0           1       5             1       9  1399  ...     102.0       6.0   \n",
       "1           1       1             0       7   698  ...      94.0      12.0   \n",
       "2           2       5             1       8   828  ...      30.0      10.0   \n",
       "3           1       3             0       4  1471  ...     177.0      10.0   \n",
       "4           1       4             0       8   547  ...      23.0      11.0   \n",
       "...       ...     ...           ...     ...   ...  ...       ...       ...   \n",
       "3115        1       4             0       8   697  ...      30.0      16.0   \n",
       "3116        1       2             0       8   590  ...      53.0      30.0   \n",
       "3117        1       3             0       7  3129  ...     212.0      20.0   \n",
       "3118        1       7             1       8  1345  ...      60.0      20.0   \n",
       "3119        1       5             1       4   882  ...     111.0      22.0   \n",
       "\n",
       "      LASTGIFT  totalmonths  TIMELAG    AVGGIFT  TARGET_B  Dec. Function  \\\n",
       "0          5.0           29        3   4.857143         1       0.276418   \n",
       "1         12.0           34        6   9.400000         1      -0.368039   \n",
       "2          5.0           29        7   4.285714         1       0.052670   \n",
       "3          8.0           30        3   7.080000         0      -0.057740   \n",
       "4         11.0           30        6   7.666667         0       0.073872   \n",
       "...        ...          ...      ...        ...       ...            ...   \n",
       "3115       4.0           29        5   7.500000         0       0.171776   \n",
       "3116      30.0           37        9  26.500000         1      -0.991284   \n",
       "3117      20.0           36        3  11.157895         0      -0.319825   \n",
       "3118      20.0           31        9  20.000000         0       0.156174   \n",
       "3119       9.0           36        5   9.250000         0      -0.129457   \n",
       "\n",
       "      Prediction  p(Donor)  \n",
       "0              1  0.568668  \n",
       "1              0  0.409015  \n",
       "2              1  0.513164  \n",
       "3              0  0.485569  \n",
       "4              1  0.518459  \n",
       "...          ...       ...  \n",
       "3115           1  0.542839  \n",
       "3116           0  0.270658  \n",
       "3117           0  0.420718  \n",
       "3118           1  0.538964  \n",
       "3119           0  0.467681  \n",
       "\n",
       "[3120 rows x 24 columns]"
      ]
     },
     "execution_count": 28,
     "metadata": {},
     "output_type": "execute_result"
    }
   ],
   "source": [
    "result_df = fund_df.copy()\n",
    "result_df['Dec. Function'] = clf.decision_function(x)\n",
    "result_df['Prediction'] = clf.predict(x)\n",
    "result_df['p(Donor)'] = clf.predict_proba(x)[:, 1]\n",
    "result_df"
   ]
  },
  {
   "cell_type": "code",
   "execution_count": 29,
   "id": "e76bc03e",
   "metadata": {},
   "outputs": [
    {
     "name": "stdout",
     "output_type": "stream",
     "text": [
      "Confusion Matrix (Accuracy 0.5561)\n",
      "\n",
      "       Prediction\n",
      "Actual   0   1\n",
      "     0 501 434\n",
      "     1 397 540\n",
      "Confusion Matrix (Accuracy 0.5633)\n",
      "\n",
      "       Prediction\n",
      "Actual   0   1\n",
      "     0 340 285\n",
      "     1 260 363\n"
     ]
    }
   ],
   "source": [
    "classificationSummary(train_y, clf.predict(train_x), class_names=classes)\n",
    "classificationSummary(valid_y, clf.predict(valid_x), class_names=classes)\n",
    "LDA_table = pd.crosstab(y, clf.predict(x))"
   ]
  },
  {
   "cell_type": "markdown",
   "id": "f4ae3c54",
   "metadata": {},
   "source": [
    "### Best model\n"
   ]
  },
  {
   "cell_type": "code",
   "execution_count": 30,
   "id": "d52f50b4",
   "metadata": {},
   "outputs": [],
   "source": [
    "def model_eval(matrix, model_name):\n",
    "    tn = matrix.iloc[0,0] \n",
    "    tp = matrix.iloc[1,1] \n",
    "    fn = matrix.iloc[1,0] \n",
    "    fp = matrix.iloc[0,1] \n",
    "    tap = fn+tp\n",
    "    tan = tn+fp\n",
    "    tpn = tn+fn\n",
    "    tpp = fp+tp\n",
    "    precision = tp / tpp\n",
    "    recall = tp / tap\n",
    "    total = tn+tp+fn+fp\n",
    "    \n",
    "    \n",
    "    data = [\n",
    "        round((tp+tn)/total,4),\n",
    "        round(1-((tp+tn)/total),4),\n",
    "        round(tp /tap,4),\n",
    "        round(tn /tan,4),\n",
    "        round(precision,4),\n",
    "                                    ]\n",
    "    \n",
    "    return(pd.DataFrame(data, columns=[model_name], \n",
    "                        index = ['Accuracy','Error Rate','Sensitivity','Specificity','Precision']))\n"
   ]
  },
  {
   "cell_type": "code",
   "execution_count": 31,
   "id": "b69bf530",
   "metadata": {},
   "outputs": [
    {
     "data": {
      "text/html": [
       "<div>\n",
       "<style scoped>\n",
       "    .dataframe tbody tr th:only-of-type {\n",
       "        vertical-align: middle;\n",
       "    }\n",
       "\n",
       "    .dataframe tbody tr th {\n",
       "        vertical-align: top;\n",
       "    }\n",
       "\n",
       "    .dataframe thead th {\n",
       "        text-align: right;\n",
       "    }\n",
       "</style>\n",
       "<table border=\"1\" class=\"dataframe\">\n",
       "  <thead>\n",
       "    <tr style=\"text-align: right;\">\n",
       "      <th></th>\n",
       "      <th>Logistic Regression</th>\n",
       "      <th>Classification Tree</th>\n",
       "      <th>Random Forest</th>\n",
       "      <th>Neural Network</th>\n",
       "      <th>Linear Discriminant Analysis</th>\n",
       "    </tr>\n",
       "  </thead>\n",
       "  <tbody>\n",
       "    <tr>\n",
       "      <th>Accuracy</th>\n",
       "      <td>0.5497</td>\n",
       "      <td>0.5088</td>\n",
       "      <td>0.5481</td>\n",
       "      <td>0.5561</td>\n",
       "      <td>0.5590</td>\n",
       "    </tr>\n",
       "    <tr>\n",
       "      <th>Error Rate</th>\n",
       "      <td>0.4503</td>\n",
       "      <td>0.4912</td>\n",
       "      <td>0.4519</td>\n",
       "      <td>0.4439</td>\n",
       "      <td>0.4410</td>\n",
       "    </tr>\n",
       "    <tr>\n",
       "      <th>Sensitivity</th>\n",
       "      <td>0.4896</td>\n",
       "      <td>0.5297</td>\n",
       "      <td>0.5570</td>\n",
       "      <td>0.3917</td>\n",
       "      <td>0.5788</td>\n",
       "    </tr>\n",
       "    <tr>\n",
       "      <th>Specificity</th>\n",
       "      <td>0.6096</td>\n",
       "      <td>0.4880</td>\n",
       "      <td>0.5392</td>\n",
       "      <td>0.7200</td>\n",
       "      <td>0.5391</td>\n",
       "    </tr>\n",
       "    <tr>\n",
       "      <th>Precision</th>\n",
       "      <td>0.5556</td>\n",
       "      <td>0.5077</td>\n",
       "      <td>0.5465</td>\n",
       "      <td>0.5823</td>\n",
       "      <td>0.5567</td>\n",
       "    </tr>\n",
       "  </tbody>\n",
       "</table>\n",
       "</div>"
      ],
      "text/plain": [
       "             Logistic Regression  Classification Tree  Random Forest  \\\n",
       "Accuracy                  0.5497               0.5088         0.5481   \n",
       "Error Rate                0.4503               0.4912         0.4519   \n",
       "Sensitivity               0.4896               0.5297         0.5570   \n",
       "Specificity               0.6096               0.4880         0.5392   \n",
       "Precision                 0.5556               0.5077         0.5465   \n",
       "\n",
       "             Neural Network  Linear Discriminant Analysis  \n",
       "Accuracy             0.5561                        0.5590  \n",
       "Error Rate           0.4439                        0.4410  \n",
       "Sensitivity          0.3917                        0.5788  \n",
       "Specificity          0.7200                        0.5391  \n",
       "Precision            0.5823                        0.5567  "
      ]
     },
     "execution_count": 31,
     "metadata": {},
     "output_type": "execute_result"
    }
   ],
   "source": [
    "LR = model_eval(LR_table , model_name = 'Logistic Regression')\n",
    "CT = model_eval(DT_table , model_name = 'Classification Tree')\n",
    "RF = model_eval(RF_table , model_name = 'Random Forest')\n",
    "NN = model_eval(NN_table , model_name = 'Neural Network')\n",
    "LDA = model_eval(LDA_table , model_name = 'Linear Discriminant Analysis')\n",
    "\n",
    "pd.concat([LR, CT, RF, NN, LDA], axis=1)"
   ]
  },
  {
   "cell_type": "markdown",
   "id": "7d4fc8c5",
   "metadata": {},
   "source": [
    "<h6> The best model is the Linear Discriminant Analysis (LDA) as it has the highest accuracy and sensitivity in comparison to other models. Further, Sarkar (2019) mentioned the LDA is a more stable model than Logistic Regression in general leading to our decision to choose the LDA beside the performance of the model.\n",
    "    \n",
    "    Reference: https://www.knowledgehut.com/blog/data-science/linear-discriminant-analysis-for-machine-learning"
   ]
  },
  {
   "cell_type": "code",
   "execution_count": null,
   "id": "dda98abe",
   "metadata": {},
   "outputs": [],
   "source": []
  }
 ],
 "metadata": {
  "kernelspec": {
   "display_name": "Python 3",
   "language": "python",
   "name": "python3"
  },
  "language_info": {
   "codemirror_mode": {
    "name": "ipython",
    "version": 3
   },
   "file_extension": ".py",
   "mimetype": "text/x-python",
   "name": "python",
   "nbconvert_exporter": "python",
   "pygments_lexer": "ipython3",
   "version": "3.8.8"
  }
 },
 "nbformat": 4,
 "nbformat_minor": 5
}
